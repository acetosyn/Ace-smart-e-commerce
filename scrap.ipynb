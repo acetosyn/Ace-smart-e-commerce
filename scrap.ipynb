{
 "cells": [
  {
   "cell_type": "code",
   "execution_count": 19,
   "metadata": {},
   "outputs": [
    {
     "name": "stdout",
     "output_type": "stream",
     "text": [
      "\n",
      "🧠 Searching all top e-commerce sites (Jumia) for: 'laptop'...\n",
      "\n",
      "🌐 Scraping Jumia for 'laptop'...\n",
      "✅ Scraping done in 28.31s\n",
      "\n",
      "✅ Scraped Results from 1 site(s) (from_cache=False):\n",
      "\n",
      "\n",
      "🌐 Site: https://www.jumia.com.ng/\n",
      "\n",
      "📦 Product #1\n",
      "🛍️ Name: Laptop stand with cooling fan\n",
      "💰 Price: ₦ 16,000\n",
      "⭐ Rating: 0.0 stars\n",
      "🔗 URL: https://www.jumia.com.ng/generic-laptop-stand-with-cooling-fan-406382627.html\n",
      "🖼️ Image: https://ng.jumia.is/unsafe/fit-in/300x300/filters:fill(white)/product/72/6283604/1.jpg?4550\n",
      "\n",
      "📦 Product #2\n",
      "🛍️ Name: DELL Latitude 7480 Intel Core i5, Keyboard Backlit, 8GB RAM, 256GB SSD, Windows 11 + MOUSE\n",
      "💰 Price: ₦ 360,000\n",
      "⭐ Rating: 0.0 stars\n",
      "🔗 URL: https://www.jumia.com.ng/dell-latitude-7480-intel-core-i5-keyboard-backlit-8gb-ram-256gb-ssd-windows-11-mouse-403038900.html\n",
      "🖼️ Image: https://ng.jumia.is/unsafe/fit-in/300x300/filters:fill(white)/product/00/9830304/1.jpg?9947\n",
      "\n",
      "📦 Product #3\n",
      "🛍️ Name: Hp Stream 11 Laptop- Intel Celeron - 128GB SSD 4GB RAM Windows 10 PRO+ Mouse & USB Light For Keyboard\n",
      "💰 Price: ₦ 280,000\n",
      "⭐ Rating: 0.0 stars\n",
      "🔗 URL: https://www.jumia.com.ng/hp-stream-11-laptop-intel-celeron-128gb-ssd-4gb-ram-windows-10-pro-mouse-usb-light-for-keyboard-396433803.html\n",
      "🖼️ Image: https://ng.jumia.is/unsafe/fit-in/300x300/filters:fill(white)/product/30/8334693/1.jpg?0865\n",
      "\n",
      "📦 Product #4\n",
      "🛍️ Name: Hp EliteBook 840 Intel Core I7- 16GB RAM/1TB SSD/Backlit Keyboard/FP Reader Windows 11 Pro + BAG\n",
      "💰 Price: ₦ 730,000\n",
      "⭐ Rating: 0.0 stars\n",
      "🔗 URL: https://www.jumia.com.ng/elitebook-840-intel-core-i7-16gb-ram1tb-ssdbacklit-keyboardfp-reader-windows-11-pro-bag-hp-mpg7968835.html\n",
      "🖼️ Image: https://ng.jumia.is/unsafe/fit-in/300x300/filters:fill(white)/product/90/8959883/1.jpg?7158\n"
     ]
    }
   ],
   "source": [
    "# 1️⃣ Imports\n",
    "import json\n",
    "from scrap_local import query_acebot_for_products\n",
    "\n",
    "# 2️⃣ Prompt user for input\n",
    "product_query = input(\"🔍 Enter a product to search (e.g., 'Samsung TV'): \").strip()\n",
    "\n",
    "# 3️⃣ Validate input\n",
    "if not product_query:\n",
    "    print(\"❌ Please enter a valid product name.\")\n",
    "else:\n",
    "    # 4️⃣ Query scraper\n",
    "    print(f\"\\n🧠 Searching all top e-commerce sites (Jumia) for: '{product_query}'...\\n\")\n",
    "    results, from_cache = query_acebot_for_products(product_query)\n",
    "\n",
    "    # 5️⃣ Display results\n",
    "    if not results:\n",
    "        print(\"😢 No products found.\")\n",
    "    else:\n",
    "        print(f\"✅ Scraped Results from {len(results)} site(s) (from_cache={from_cache}):\\n\")\n",
    "        for site_result in results:\n",
    "            site = site_result.get(\"site\", \"Unknown\")\n",
    "            data = site_result.get(\"data\", [])\n",
    "\n",
    "            print(f\"\\n🌐 Site: {site}\")\n",
    "            if isinstance(data, list):\n",
    "                for i, item in enumerate(data, 1):\n",
    "                    print(f\"\\n📦 Product #{i}\")\n",
    "                    print(f\"🛍️ Name: {item.get('name')}\")\n",
    "                    print(f\"💰 Price: {item.get('price')}\")\n",
    "                    print(f\"⭐ Rating: {item.get('rating')} stars\")\n",
    "                    print(f\"🔗 URL: {item.get('url')}\")\n",
    "                    print(f\"🖼️ Image: {item.get('image')}\")\n",
    "            else:\n",
    "                print(\"⚠️ Unexpected data format.\")"
   ]
  },
  {
   "cell_type": "code",
   "execution_count": 22,
   "metadata": {},
   "outputs": [
    {
     "ename": "ImportError",
     "evalue": "cannot import name 'scrape_products_by_category' from 'scrap_local' (c:\\Users\\ACEMX\\Desktop\\LLMprojects\\E Commerce\\best_site\\scrap_local.py)",
     "output_type": "error",
     "traceback": [
      "\u001b[31m---------------------------------------------------------------------------\u001b[39m",
      "\u001b[31mImportError\u001b[39m                               Traceback (most recent call last)",
      "\u001b[36mCell\u001b[39m\u001b[36m \u001b[39m\u001b[32mIn[22]\u001b[39m\u001b[32m, line 1\u001b[39m\n\u001b[32m----> \u001b[39m\u001b[32m1\u001b[39m \u001b[38;5;28;01mfrom\u001b[39;00m\u001b[38;5;250m \u001b[39m\u001b[34;01mscrap_local\u001b[39;00m\u001b[38;5;250m \u001b[39m\u001b[38;5;28;01mimport\u001b[39;00m scrape_products_by_category\n\u001b[32m      3\u001b[39m \u001b[38;5;28;01mdef\u001b[39;00m\u001b[38;5;250m \u001b[39m\u001b[34mtest_scraper\u001b[39m(query):\n\u001b[32m      4\u001b[39m     results, _ = scrape_products_by_category(query)\n",
      "\u001b[31mImportError\u001b[39m: cannot import name 'scrape_products_by_category' from 'scrap_local' (c:\\Users\\ACEMX\\Desktop\\LLMprojects\\E Commerce\\best_site\\scrap_local.py)"
     ]
    }
   ],
   "source": [
    "from scrap_local import scrape_products_by_category\n",
    "\n",
    "def test_scraper(query):\n",
    "    results, _ = scrape_products_by_category(query)\n",
    "    if not results:\n",
    "        print(\"❌ No valid results.\")\n",
    "    else:\n",
    "        for site in results:\n",
    "            print(f\"\\n📦 Site: {site['site']}\")\n",
    "            for i, item in enumerate(site[\"data\"][:5], 1):  # limit to 5 per site\n",
    "                print(f\"{i}. 🛍️ {item['name']}\\n   💵 {item['price']}\\n   ⭐ {item.get('rating', 'N/A')}  🔗 {item['url']}\\n\")\n",
    "\n",
    "query = input(\"🔎 Enter a product to test (e.g., samsung tv): \").strip()\n",
    "test_scraper(query)"
   ]
  },
  {
   "cell_type": "code",
   "execution_count": null,
   "metadata": {},
   "outputs": [],
   "source": []
  }
 ],
 "metadata": {
  "kernelspec": {
   "display_name": "ace",
   "language": "python",
   "name": "python3"
  },
  "language_info": {
   "codemirror_mode": {
    "name": "ipython",
    "version": 3
   },
   "file_extension": ".py",
   "mimetype": "text/x-python",
   "name": "python",
   "nbconvert_exporter": "python",
   "pygments_lexer": "ipython3",
   "version": "3.12.6"
  }
 },
 "nbformat": 4,
 "nbformat_minor": 2
}
